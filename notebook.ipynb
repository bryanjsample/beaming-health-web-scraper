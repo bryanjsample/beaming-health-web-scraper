{
 "cells": [
  {
   "cell_type": "code",
   "execution_count": 31,
   "metadata": {},
   "outputs": [],
   "source": [
    "import beaming_scraper_functions\n",
    "from selenium import webdriver\n",
    "from selenium.webdriver.common.by import By\n",
    "from selenium.webdriver.common.keys import Keys\n",
    "import selenium.common.exceptions\n",
    "import time\n",
    "\n",
    "options = webdriver.ChromeOptions()\n",
    "options.add_experimental_option('detach', True)\n",
    "driver = webdriver.Chrome(options = options)"
   ]
  },
  {
   "cell_type": "markdown",
   "metadata": {},
   "source": [
    "Find results for [aba-therapy](https://beaminghealth.com/aba-therapy), [occupational-therapy](https://beaminghealth.com/occupational-therapy), and [speech-therapy](https://beaminghealth.com/speech-therapy)\n",
    "\n",
    "Locate each state page listed\n"
   ]
  },
  {
   "cell_type": "code",
   "execution_count": 32,
   "metadata": {},
   "outputs": [],
   "source": [
    "therapy_type_webpages = ['aba-therapy', 'occupational-therapy', 'speech-therapy']\n",
    "\n",
    "driver.get(f'https://beaminghealth.com/{therapy_type_webpages[0]}')\n",
    "time.sleep(2)\n",
    "states_list_element = driver.find_element(By.XPATH, \"//div[contains(@class, 'find-service-block state')]\")\n",
    "list_of_states = states_list_element.find_elements(By.XPATH, \".//a[@class = 'b-item_link']\")\n",
    "\n",
    "list_of_state_webpages = beaming_scraper_functions.find_state_webpages(list_of_states)"
   ]
  },
  {
   "cell_type": "markdown",
   "metadata": {},
   "source": [
    "Iterate through each [state page](https://beaminghealth.com/aba-therapy/colorado) and obtain each city page listed"
   ]
  },
  {
   "cell_type": "markdown",
   "metadata": {},
   "source": [
    "Iterate through each [city page](https://beaminghealth.com/aba-therapy/colorado-springs-80902/all) and obtain all search listings"
   ]
  },
  {
   "cell_type": "markdown",
   "metadata": {},
   "source": [
    "For each [search listing](https://beaminghealth.com/providers/shandy-clinic-helen-hunt-colorado-springs-co?service=aba-therapy&zipCode=colorado-springs-80902) obtain:\n",
    "\n",
    "1. Name\n",
    "2. Website\n",
    "3. Address\n",
    "4. Insurance Carriers Accepted\n",
    "5. Care Settings\n",
    "\n",
    "- Remove duplicate addresses\n",
    "- Count number of duplicate websites, then delete all but one\n",
    "  - Final address is irrelevant"
   ]
  },
  {
   "cell_type": "markdown",
   "metadata": {},
   "source": [
    "Write information into a CSV file, one for each therapy type"
   ]
  },
  {
   "cell_type": "code",
   "execution_count": null,
   "metadata": {},
   "outputs": [],
   "source": [
    "for state_webpage in list_of_state_webpages:\n",
    "    driver.get(state_webpage)\n",
    "    time.sleep(1)\n",
    "    city_list_element = driver.find_element(By.XPATH, \"//div[contains(@class, 'find-service-block city')]\")\n",
    "    list_of_cities = city_list_element.find_elements(By.XPATH, \".//a[@class = 'b-item_link']\")\n",
    "\n",
    "    list_of_city_webpages = beaming_scraper_functions.find_city_webpages(list_of_cities)\n",
    "    \n",
    "    for city_webpage in list_of_city_webpages:\n",
    "        driver.get(city_webpage)\n",
    "        time.sleep(1)\n",
    "        list_of_providers = driver.find_elements(By.XPATH, \"//div[@class = 'doctors-card']\")\n",
    "\n",
    "        list_of_provider_webpages = beaming_scraper_functions.find_provider_webpages(list_of_providers)\n",
    "\n",
    "        for provider_webpage in list_of_provider_webpages:\n",
    "            driver.get(provider_webpage)\n",
    "            time.sleep(1)\n",
    "\n"
   ]
  },
  {
   "cell_type": "code",
   "execution_count": null,
   "metadata": {},
   "outputs": [],
   "source": [
    "driver.quit()"
   ]
  }
 ],
 "metadata": {
  "kernelspec": {
   "display_name": "myenv",
   "language": "python",
   "name": "python3"
  },
  "language_info": {
   "codemirror_mode": {
    "name": "ipython",
    "version": 3
   },
   "file_extension": ".py",
   "mimetype": "text/x-python",
   "name": "python",
   "nbconvert_exporter": "python",
   "pygments_lexer": "ipython3",
   "version": "3.12.0"
  }
 },
 "nbformat": 4,
 "nbformat_minor": 2
}
